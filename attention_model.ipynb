{
 "cells": [
  {
   "cell_type": "code",
   "execution_count": 3,
   "metadata": {
    "collapsed": false
   },
   "outputs": [],
   "source": [
    "# TODO: update notebook -- not working right now\n",
    "import numpy as np\n",
    "import pandas as pd\n",
    "import matplotlib.pyplot as plt\n",
    "%matplotlib inline\n",
    "\n",
    "from sklearn.cross_validation import train_test_split\n",
    "import model\n",
    "import torch\n",
    "import torch.nn as nn\n",
    "from torch.autograd import Variable\n",
    "import torch.nn.functional as F\n",
    "from model import AttentionSentRNN, AttentionWordRNN"
   ]
  },
  {
   "cell_type": "code",
   "execution_count": 4,
   "metadata": {
    "collapsed": true
   },
   "outputs": [],
   "source": [
    "word_attn = AttentionWordRNN(batch_size=64, num_tokens=81132, embed_size=300, \n",
    "                             word_gru_hidden=100, bidirectional= True)"
   ]
  },
  {
   "cell_type": "code",
   "execution_count": 5,
   "metadata": {
    "collapsed": true
   },
   "outputs": [],
   "source": [
    "sent_attn = AttentionSentRNN(batch_size=64, sent_gru_hidden=100, word_gru_hidden=100, \n",
    "                             n_classes=10, bidirectional= True)"
   ]
  },
  {
   "cell_type": "code",
   "execution_count": 6,
   "metadata": {
    "collapsed": false
   },
   "outputs": [],
   "source": [
    "learning_rate = 1e-3\n",
    "word_optmizer = torch.optim.Adam(word_attn.parameters(), lr=learning_rate)\n",
    "sent_optimizer = torch.optim.Adam(sent_attn.parameters(), lr=learning_rate)"
   ]
  },
  {
   "cell_type": "code",
   "execution_count": 7,
   "metadata": {
    "collapsed": true
   },
   "outputs": [],
   "source": [
    "def train_data(mini_batch, targets, word_attn_model, sent_attn_model, word_optimizer, sent_optimizer, criterion):\n",
    "    state_word = word_attn_model.init_hidden().cuda()\n",
    "    state_sent = sent_attn_model.init_hidden().cuda()\n",
    "#     print state_sent.size()\n",
    "    max_sents, batch_size, max_tokens = mini_batch.size()\n",
    "    word_optimizer.zero_grad()\n",
    "    sent_optimizer.zero_grad()\n",
    "    s = None\n",
    "    for i in xrange(max_sents):\n",
    "        _s, state_word = word_attn_model(mini_batch[i,:,:].transpose(0,1), state_word)\n",
    "        if(s is None):\n",
    "            s = _s\n",
    "        else:\n",
    "            s = torch.cat((s,_s),0)\n",
    "#     print s.size()\n",
    "            \n",
    "    y_pred, state_sent = sent_attn_model(s, state_sent)\n",
    "    loss = criterion(y_pred.cuda(), targets) \n",
    "    loss.backward()\n",
    "    \n",
    "    word_optimizer.step()\n",
    "    sent_optimizer.step()\n",
    "    \n",
    "    return loss.data[0]"
   ]
  },
  {
   "cell_type": "code",
   "execution_count": 8,
   "metadata": {
    "collapsed": true
   },
   "outputs": [],
   "source": [
    "criterion = nn.NLLLoss()"
   ]
  },
  {
   "cell_type": "code",
   "execution_count": 9,
   "metadata": {
    "collapsed": false
   },
   "outputs": [
    {
     "data": {
      "text/plain": [
       "AttentionSentRNN (\n",
       "  (sent_gru): GRU(200, 100, bidirectional=True)\n",
       "  (final_linear): Linear (200 -> 10)\n",
       "  (softmax_sent): Softmax ()\n",
       "  (final_softmax): Softmax ()\n",
       ")"
      ]
     },
     "execution_count": 9,
     "metadata": {},
     "output_type": "execute_result"
    }
   ],
   "source": [
    "word_attn.cuda()\n",
    "sent_attn.cuda()"
   ]
  },
  {
   "cell_type": "code",
   "execution_count": 11,
   "metadata": {
    "collapsed": false
   },
   "outputs": [],
   "source": [
    "d = pd.read_json('/data1/sandeep/datasets/imdb_final.json')"
   ]
  },
  {
   "cell_type": "code",
   "execution_count": 12,
   "metadata": {
    "collapsed": true
   },
   "outputs": [],
   "source": [
    "d['rating'] = d['rating'] - 1"
   ]
  },
  {
   "cell_type": "code",
   "execution_count": 13,
   "metadata": {
    "collapsed": false
   },
   "outputs": [
    {
     "data": {
      "text/html": [
       "<div>\n",
       "<table border=\"1\" class=\"dataframe\">\n",
       "  <thead>\n",
       "    <tr style=\"text-align: right;\">\n",
       "      <th></th>\n",
       "      <th>cleaned_sent</th>\n",
       "      <th>rating</th>\n",
       "      <th>review</th>\n",
       "      <th>sentences</th>\n",
       "      <th>tokens</th>\n",
       "      <th>url</th>\n",
       "      <th>user</th>\n",
       "    </tr>\n",
       "  </thead>\n",
       "  <tbody>\n",
       "    <tr>\n",
       "      <th>0</th>\n",
       "      <td>[i excepted a lot from this movie , and it did...</td>\n",
       "      <td>9</td>\n",
       "      <td>i excepted a lot from this movie , and it did ...</td>\n",
       "      <td>[i excepted a lot from this movie , and it did...</td>\n",
       "      <td>[[18, 26739, 10, 166, 47, 19, 31, 6, 9, 15, 97...</td>\n",
       "      <td>\\tt0119485</td>\n",
       "      <td>ur2480402/</td>\n",
       "    </tr>\n",
       "    <tr>\n",
       "      <th>1</th>\n",
       "      <td>[this movie is not worth seeing . ,  has no me...</td>\n",
       "      <td>0</td>\n",
       "      <td>this movie is not worth seeing . &lt;sssss&gt; has n...</td>\n",
       "      <td>[this movie is not worth seeing . ,  has no me...</td>\n",
       "      <td>[[19, 31, 13, 37, 331, 343, 8], [3, 49, 94, 51...</td>\n",
       "      <td>\\tt0109836</td>\n",
       "      <td>ur2480402/</td>\n",
       "    </tr>\n",
       "    <tr>\n",
       "      <th>10</th>\n",
       "      <td>[this is a great movie ! ,  it is so funny . ,...</td>\n",
       "      <td>9</td>\n",
       "      <td>this is a great movie ! &lt;sssss&gt; it is so funny...</td>\n",
       "      <td>[this is a great movie ! ,  it is so funny . ,...</td>\n",
       "      <td>[[19, 13, 10, 88, 31, 77], [3, 15, 13, 53, 192...</td>\n",
       "      <td>\\tt0088011</td>\n",
       "      <td>ur2480402/</td>\n",
       "    </tr>\n",
       "    <tr>\n",
       "      <th>100</th>\n",
       "      <td>[there 's a kid in this film that concerns me ...</td>\n",
       "      <td>5</td>\n",
       "      <td>there 's a kid in this film that concerns me ....</td>\n",
       "      <td>[there 's a kid in this film that concerns me ...</td>\n",
       "      <td>[[52, 17, 10, 692, 14, 19, 24, 16, 3177, 106, ...</td>\n",
       "      <td>\\tt0762114</td>\n",
       "      <td>ur4751428/</td>\n",
       "    </tr>\n",
       "    <tr>\n",
       "      <th>1000</th>\n",
       "      <td>[john hall -lrb- david andrews -rrb- is a drif...</td>\n",
       "      <td>7</td>\n",
       "      <td>john hall -lrb- david andrews -rrb- is a drift...</td>\n",
       "      <td>[john hall -lrb- david andrews -rrb- is a drif...</td>\n",
       "      <td>[[221, 2210, 27, 460, 4447, 26, 13, 10, 9737, ...</td>\n",
       "      <td>\\tt0099697</td>\n",
       "      <td>ur5115203/</td>\n",
       "    </tr>\n",
       "  </tbody>\n",
       "</table>\n",
       "</div>"
      ],
      "text/plain": [
       "                                           cleaned_sent  rating  \\\n",
       "0     [i excepted a lot from this movie , and it did...       9   \n",
       "1     [this movie is not worth seeing . ,  has no me...       0   \n",
       "10    [this is a great movie ! ,  it is so funny . ,...       9   \n",
       "100   [there 's a kid in this film that concerns me ...       5   \n",
       "1000  [john hall -lrb- david andrews -rrb- is a drif...       7   \n",
       "\n",
       "                                                 review  \\\n",
       "0     i excepted a lot from this movie , and it did ...   \n",
       "1     this movie is not worth seeing . <sssss> has n...   \n",
       "10    this is a great movie ! <sssss> it is so funny...   \n",
       "100   there 's a kid in this film that concerns me ....   \n",
       "1000  john hall -lrb- david andrews -rrb- is a drift...   \n",
       "\n",
       "                                              sentences  \\\n",
       "0     [i excepted a lot from this movie , and it did...   \n",
       "1     [this movie is not worth seeing . ,  has no me...   \n",
       "10    [this is a great movie ! ,  it is so funny . ,...   \n",
       "100   [there 's a kid in this film that concerns me ...   \n",
       "1000  [john hall -lrb- david andrews -rrb- is a drif...   \n",
       "\n",
       "                                                 tokens         url  \\\n",
       "0     [[18, 26739, 10, 166, 47, 19, 31, 6, 9, 15, 97...  \\tt0119485   \n",
       "1     [[19, 31, 13, 37, 331, 343, 8], [3, 49, 94, 51...  \\tt0109836   \n",
       "10    [[19, 13, 10, 88, 31, 77], [3, 15, 13, 53, 192...  \\tt0088011   \n",
       "100   [[52, 17, 10, 692, 14, 19, 24, 16, 3177, 106, ...  \\tt0762114   \n",
       "1000  [[221, 2210, 27, 460, 4447, 26, 13, 10, 9737, ...  \\tt0099697   \n",
       "\n",
       "            user  \n",
       "0     ur2480402/  \n",
       "1     ur2480402/  \n",
       "10    ur2480402/  \n",
       "100   ur4751428/  \n",
       "1000  ur5115203/  "
      ]
     },
     "execution_count": 13,
     "metadata": {},
     "output_type": "execute_result"
    }
   ],
   "source": [
    "d.head()"
   ]
  },
  {
   "cell_type": "code",
   "execution_count": 14,
   "metadata": {
    "collapsed": true
   },
   "outputs": [],
   "source": [
    "train, test = train_test_split(d, test_size = 0.3, random_state= 42)"
   ]
  },
  {
   "cell_type": "code",
   "execution_count": 15,
   "metadata": {
    "collapsed": false
   },
   "outputs": [
    {
     "data": {
      "text/plain": [
       "(59443, 7)"
      ]
     },
     "execution_count": 15,
     "metadata": {},
     "output_type": "execute_result"
    }
   ],
   "source": [
    "train.shape"
   ]
  },
  {
   "cell_type": "code",
   "execution_count": 16,
   "metadata": {
    "collapsed": true
   },
   "outputs": [],
   "source": [
    "def gen_minibatch(df, mini_batch_size):\n",
    "    random_batch = np.random.randint(0,df.shape[0],mini_batch_size)\n",
    "    labels = df.rating.iloc[random_batch].values\n",
    "    tokens = df.tokens.iloc[random_batch].values\n",
    "    max_sent_len = int(np.mean([len(x) for x in tokens]))\n",
    "#     print max_sent_len\n",
    "    max_token_len = int(np.mean([len(val) for sublist in tokens for val in sublist]))\n",
    "#     print max_token_len\n",
    "    main_matrix = np.zeros((mini_batch_size, max_sent_len, max_token_len), dtype= np.int)\n",
    "    # must be a better way to do this\n",
    "    for i in xrange(main_matrix.shape[0]):\n",
    "        for j in xrange(main_matrix.shape[1]):\n",
    "            for k in xrange(main_matrix.shape[2]):\n",
    "                try:\n",
    "                    main_matrix[i,j,k] = tokens[i][j][k]\n",
    "                except IndexError:\n",
    "                    pass\n",
    "    return Variable(torch.from_numpy(main_matrix).transpose(0,1)), Variable(torch.from_numpy(labels), requires_grad= False)"
   ]
  },
  {
   "cell_type": "code",
   "execution_count": null,
   "metadata": {
    "collapsed": false
   },
   "outputs": [
    {
     "name": "stdout",
     "output_type": "stream",
     "text": [
      "Loss after 28 minibatches is 2.160573\n",
      "Loss after 57 minibatches is 2.116110\n",
      "Loss after 86 minibatches is 2.110283\n",
      "Loss after 115 minibatches is 2.078117\n",
      "Loss after 144 minibatches is 2.048646\n"
     ]
    }
   ],
   "source": [
    "loss_full = []\n",
    "loss_smooth = []\n",
    "counter = 0\n",
    "for i in xrange(7000):\n",
    "    tokens, labels = gen_minibatch(train, 64)\n",
    "    loss = train_data(tokens.cuda(), labels.cuda(), word_attn, sent_attn, word_optmizer, sent_optimizer, criterion)\n",
    "    loss_full.append(loss)\n",
    "    loss_smooth.append(loss)\n",
    "    counter += 1\n",
    "    if counter == 29:\n",
    "        print 'Loss after %d minibatches is %f' % (i, np.mean(loss_smooth))\n",
    "        loss_smooth = []\n",
    "        counter = 0"
   ]
  },
  {
   "cell_type": "code",
   "execution_count": 32,
   "metadata": {
    "collapsed": false
   },
   "outputs": [],
   "source": [
    "plt.style.use('seaborn-dark-palette')\n",
    "from pylab import rcParams\n",
    "rcParams['figure.figsize'] = 12, 8"
   ]
  },
  {
   "cell_type": "code",
   "execution_count": 33,
   "metadata": {
    "collapsed": false
   },
   "outputs": [
    {
     "data": {
      "text/plain": [
       "<matplotlib.text.Text at 0x7fb7bd87b190>"
      ]
     },
     "execution_count": 33,
     "metadata": {},
     "output_type": "execute_result"
    },
    {
     "data": {
      "image/png": "[encoded data removed]",
      "text/plain": [
       "<matplotlib.figure.Figure at 0x7fb7baeb4410>"
      ]
     },
     "metadata": {},
     "output_type": "display_data"
    }
   ],
   "source": [
    "plt.plot(loss_full)\n",
    "plt.xlabel('Minibatch number')\n",
    "plt.ylabel('Training loss')"
   ]
  },
  {
   "cell_type": "code",
   "execution_count": null,
   "metadata": {
    "collapsed": true
   },
   "outputs": [],
   "source": [
    ""
   ]
  }
 ],
 "metadata": {
  "anaconda-cloud": {},
  "kernelspec": {
   "display_name": "Python [conda env:py2]",
   "language": "python",
   "name": "conda-env-py2-py"
  },
  "language_info": {
   "codemirror_mode": {
    "name": "ipython",
    "version": 2.0
   },
   "file_extension": ".py",
   "mimetype": "text/x-python",
   "name": "python",
   "nbconvert_exporter": "python",
   "pygments_lexer": "ipython2",
   "version": "2.7.12"
  }
 },
 "nbformat": 4,
 "nbformat_minor": 0
}